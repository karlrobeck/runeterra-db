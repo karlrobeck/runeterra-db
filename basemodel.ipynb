{
 "cells": [
  {
   "cell_type": "code",
   "execution_count": 1,
   "metadata": {},
   "outputs": [],
   "source": [
    "from src.field import Field\n",
    "from src.base import sql,BaseSQL\n",
    "from typing import _GenericAlias\n",
    "\n",
    "DATATYPES = {\n",
    "    'int':'INTEGER',\n",
    "    'str':'TEXT',\n",
    "    'float':'REAL',\n",
    "    'bytes':'BLOB'\n",
    "}\n",
    "\n",
    "\n",
    "class BaseModel(BaseSQL):\n",
    "\n",
    "    def __init__(self) -> None:\n",
    "\n",
    "        self.__name__ = self.__class__.__name__.lower()\n",
    "        self.__columns__ = list(self.__class__.__annotations__.keys())\n",
    "        self.__column_info__ = {key:getattr(self,key).__info__() for key in self.columns()}\n",
    "\n",
    "        self._field_info = []\n",
    "        for attr in self.__columns__:\n",
    "            assert type(getattr(self,attr)) == Field, f'{attr} Must be a field type in order to use BaseModel'\n",
    "            self._field_info.append(getattr(self,attr))\n",
    "        self._field_info = tuple(self._field_info)\n",
    "        #check if matches \n",
    "        for key,val in self.__class__.__annotations__.items():\n",
    "            assert isinstance(getattr(self,key).__value__,val.__args__[0]),f'Invalid data type {val.__args__[0]} must match with default {type(getattr(self,key).__value__)} type'\n",
    "\n",
    "    def __sql__(self) -> str:\n",
    "\n",
    "        columns = []\n",
    "\n",
    "        for key,val in self.__class__.__annotations__.items():\n",
    "            getattr(self,key).type = val.__args__[0]\n",
    "            getattr(self,key).name = key\n",
    "            if isinstance(val,_GenericAlias):\n",
    "                columns.append(f'{key} {DATATYPES[val.__args__[0].__name__]} {getattr(self.__class__(),key).__sql__()}')\n",
    "\n",
    "        return f\"CREATE TABLE {self.__class__.__name__.lower()} ( {', '.join(columns)} );\"\n",
    "class TableTest(BaseModel):\n",
    "    name:Field[int] = Field(default=3,primary_key=True)\n",
    "    address:Field[str] = Field(default='5',unique=True,required=True)"
   ]
  },
  {
   "cell_type": "code",
   "execution_count": 2,
   "metadata": {},
   "outputs": [
    {
     "data": {
      "text/plain": [
       "'CREATE TABLE tabletest ( name INTEGER PRIMARY KEY, address TEXT NOT NULL UNIQUE );'"
      ]
     },
     "execution_count": 2,
     "metadata": {},
     "output_type": "execute_result"
    }
   ],
   "source": [
    "val = TableTest() # 1\n",
    "sql(val)"
   ]
  },
  {
   "cell_type": "code",
   "execution_count": null,
   "metadata": {},
   "outputs": [],
   "source": []
  }
 ],
 "metadata": {
  "kernelspec": {
   "display_name": "orm-4E_qFmLh",
   "language": "python",
   "name": "python3"
  },
  "language_info": {
   "codemirror_mode": {
    "name": "ipython",
    "version": 3
   },
   "file_extension": ".py",
   "mimetype": "text/x-python",
   "name": "python",
   "nbconvert_exporter": "python",
   "pygments_lexer": "ipython3",
   "version": "3.11.4"
  }
 },
 "nbformat": 4,
 "nbformat_minor": 2
}
