{
 "cells": [
  {
   "cell_type": "code",
   "execution_count": 30,
   "metadata": {},
   "outputs": [],
   "source": [
    "import sqlite3\n",
    "import copy\n",
    "from typing import (\n",
    "    Any,\n",
    "    Generic,\n",
    "    TypeVar,\n",
    "    Self,\n",
    "    Generator,\n",
    "    Type,\n",
    "    Literal\n",
    ")\n",
    "import uuid"
   ]
  },
  {
   "cell_type": "markdown",
   "metadata": {},
   "source": [
    "# ORM SOURCE CODE"
   ]
  },
  {
   "cell_type": "code",
   "execution_count": 31,
   "metadata": {},
   "outputs": [],
   "source": [
    "\n",
    "\n",
    "DATATYPES: dict[str, str] = {\n",
    "    'int':'INTEGER',\n",
    "    'str':'TEXT',\n",
    "    'float':'REAL',\n",
    "    'bytes':'BLOB'\n",
    "}\n",
    "\n",
    "T = TypeVar('T')\n",
    "\n",
    "class SQLModel:\n",
    "    \n",
    "    def __init__(self,**kwargs) -> None:\n",
    "        self.__annotations__ = vars(self.__class__)['__annotations__']\n",
    "        self.__model_fields__: dict[str, Any] = {key:copy.deepcopy(getattr(self,key)) for key in self.__annotations__.keys()}\n",
    "        self.__name__: str = self.__class__.__name__\n",
    "        self.__sql__ = f\"CREATE TABLE {self.__name__.lower()} ({', '.join([self.__model_fields__[x].__sql__ for x in self.__model_fields__.keys()])});\"\n",
    "        for key,val in kwargs.items():\n",
    "            setattr(self,key,val)\n",
    "    \n",
    "    def __repr__(self) -> str:\n",
    "        data: list[str] = [f'{key}={getattr(self,key)}' for key in self.__annotations__.keys()]\n",
    "        return f\"{self.__class__.__name__}({','.join(data)})\"\n",
    "    \n",
    "    @staticmethod    \n",
    "    def execute_table(conn:sqlite3.Connection) -> sqlite3.Cursor:\n",
    "        \n",
    "        #create cursor\n",
    "        cursor: sqlite3.Cursor = conn.cursor()\n",
    "        \n",
    "        #tables\n",
    "        sql_create_tables:list[str] = [x().__sql__ for x in SQLModel.__subclasses__()]\n",
    "        \n",
    "        script:str = f\"BEGIN; {' '.join(sql_create_tables)} COMMIT;\"\n",
    "        \n",
    "        return cursor.executescript(script)\n",
    "class Field(Generic[T]):\n",
    "    \n",
    "    def __init__(\n",
    "        self,\n",
    "        primary_key=False,\n",
    "        unique=False,\n",
    "        required=False,\n",
    "        auto_increment=False,\n",
    "        name='',\n",
    "        _type:Any=None,\n",
    "    ) -> None:\n",
    "        \n",
    "        self.__name__: str = name\n",
    "        self.__type__: type = _type\n",
    "        \n",
    "        self.__constraints__:list[str] = []\n",
    "        \n",
    "        if primary_key:\n",
    "            self.__constraints__.append(\"PRIMARY KEY\")\n",
    "            \n",
    "        if unique:\n",
    "            self.__constraints__.append(\"UNIQUE\")\n",
    "            \n",
    "        if required:\n",
    "            self.__constraints__.append(\"NOT NULL\")\n",
    "            \n",
    "        if auto_increment:\n",
    "            self.__constraints__.append(\"AUTOINCREMENT\")\n",
    "        \n",
    "        self.__sql__:str = f\"{self.__name__} {DATATYPES[self.__type__.__name__]} {' '.join(self.__constraints__)}\"\n",
    "    \n",
    "    def __repr__(self) -> str:\n",
    "        return self.__name__\n",
    "    \n",
    "    def __str__(self) -> str:\n",
    "        return \"\"\n",
    "    \n",
    "    def __eq__(self, __value: object) -> str:\n",
    "        \n",
    "        if isinstance(__value,str):\n",
    "            return f\"{self.__name__} = '{__value}'\"\n",
    "        else:\n",
    "            return f\"{self.__name__} = {__value}\"\n",
    "        \n",
    "    def __gt__(self, __value: object) -> str:\n",
    "        return f\"{self.__name__} > {__value}\"\n",
    "        \n",
    "    def __lt__(self, __value: object) -> str:\n",
    "        return f\"{self.__name__} < {__value}\"\n",
    "    \n",
    "    def __ge__(self, __value: object) -> str:\n",
    "        return f\"{self.__name__} >= {__value}\"\n",
    "    \n",
    "    def __le__(self, __value: object) -> str:\n",
    "        return f\"{self.__name__} <= {__value}\"\n",
    "    \n",
    "    def __ne__(self, __value: object) -> str:\n",
    "        return f\"{self.__name__} <> {__value}\"\n",
    "    \n",
    "    def __in__(self,__iter: object) -> str:\n",
    "        return \"\"\n",
    "    \n",
    "def _and(left,right) -> str:\n",
    "    return f\"{left} AND {right}\"\n",
    "\n",
    "def _or(left,right) -> str:\n",
    "    return f\"{left} OR {right}\"\n",
    "\n",
    "def _not(condition) -> str:\n",
    "    return f\"NOT {condition}\"\n",
    "\n",
    "def _null(conditions) -> str:\n",
    "    return f\"{conditions} IS NULL\"\n",
    "\n",
    "def _not_null(conditions) -> str:\n",
    "    return f\"{conditions} IS NOT NULL\"\n",
    "\n",
    "def _like(column:Field,pattern:str) -> str:\n",
    "    return f\"{column} LIKE %{pattern}%\"\n",
    "\n",
    "def _in(left:Field,right) -> str:\n",
    "    return f\"{left.__name__} IN {right}\"\n",
    "\n",
    "def _between(column:Field,start:int,stop:int) -> str:\n",
    "    return f\"{column.__name__} BETWEEN {start} AND {stop}\"\n",
    "\n",
    "class ForeignKey(Field):\n",
    "    \n",
    "    def __init__(self,name:str,table:Type[SQLModel],_type:type,column:str) -> None:\n",
    "        self.__name__ = name\n",
    "        self.__type__ = _type\n",
    "        self.__sql__ = f\"{self.__name__} {DATATYPES[self.__type__.__name__]} , FOREIGN KEY ({self.__name__}) REFERENCES {table().__name__}({column})\"\n",
    "        pass\n",
    "    \n",
    "class Query:\n",
    "    \n",
    "    def __init__(self,table:Type[SQLModel]) -> None:\n",
    "        self.table = table\n",
    "        self.__query__:list[str] = []\n",
    "        \n",
    "    def select(self,*columns:Field|ForeignKey,distinct:bool=False,top:int|None=None) -> Self:\n",
    "        \n",
    "        if distinct:\n",
    "            if top:\n",
    "                select_syntax:str = \"SELECT TOP {top} DISTINCT {columns} from {table}\".format(top=top)\n",
    "            else:\n",
    "                select_syntax:str = \"SELECT DISTINCT {columns} from {table}\"\n",
    "        else:\n",
    "            if top:\n",
    "                select_syntax:str = \"SELECT TOP {top} {columns} from {table}\".replace('{top}',str(top))\n",
    "            else:\n",
    "                select_syntax:str = \"SELECT {columns} from {table}\"\n",
    "        \n",
    "        \n",
    "        \n",
    "        if len(columns) == 0:\n",
    "            \n",
    "            self.__query__.append(\n",
    "                select_syntax.format(\n",
    "                    table=self.table.__name__.lower(),\n",
    "                    columns=\", \".join([f'{self.table.__name__.lower()}.{x}' for x in self.table().__model_fields__.keys()])\n",
    "                )\n",
    "            )\n",
    "            \n",
    "            return self\n",
    "        \n",
    "        self.__query__.append(\n",
    "            select_syntax.format(\n",
    "                    table=self.table.__name__.lower(),\n",
    "                    columns=\", \".join([x.__name__ for x in columns])\n",
    "                )\n",
    "        )\n",
    "        \n",
    "        return self\n",
    "    \n",
    "    def where(self,*conditions) -> Self:\n",
    "        \n",
    "        where_syntax: str = \"WHERE {conditions}\"\n",
    "        \n",
    "        self.__query__.append(\n",
    "            where_syntax.format(\n",
    "                conditions=\"\".join(conditions)\n",
    "            )\n",
    "        )\n",
    "                \n",
    "        return self\n",
    "    \n",
    "    def insert(self,values_obj:SQLModel) -> Self:\n",
    "        insert_syntax: str = \"INSERT INTO {table} VALUES ({values})\"\n",
    "        \n",
    "        values_obj_str:list[str] = []\n",
    "        \n",
    "        for val in [str(x) for x in {key:val for key,val in values_obj.__dict__.items() if '__' not in key}.values()]:\n",
    "            if isinstance(val,str):\n",
    "                values_obj_str.append(f\"'{val}'\")\n",
    "            else:\n",
    "                values_obj_str.append(val)\n",
    "        \n",
    "        self.__query__.append(\n",
    "            insert_syntax.format(\n",
    "                values=', '.join(values_obj_str),\n",
    "                table=self.table.__name__.lower()\n",
    "            )\n",
    "        )\n",
    "        return self\n",
    "    \n",
    "    def order_by(self,*column:Field[Any],order:str='ASC') -> Self:\n",
    "        \n",
    "        order_by_syntax = \"ORDER BY {columns} {order_type}\"\n",
    "        self.__query__.append(\n",
    "            order_by_syntax.format(\n",
    "                columns=''.join([x.__name__ for x in column]),\n",
    "                order_type=order,\n",
    "            )\n",
    "        )\n",
    "        return self\n",
    "    \n",
    "    def update(self,columns_set:SQLModel) -> Self:\n",
    "        \n",
    "        update_table_syntax = 'UPDATE {table} SET {columns_set}'\n",
    "        \n",
    "        values_obj_str:list[str] = []\n",
    "        \n",
    "        for key,val in {key:val for key,val in columns_set.__dict__.items() if '__' not in key}.items():\n",
    "            if isinstance(val,str):\n",
    "                values_obj_str.append(f\"{key} = '{val}'\")\n",
    "            else:\n",
    "                values_obj_str.append(f\"{key} = {val}\")\n",
    "        \n",
    "        self.__query__.append(\n",
    "            update_table_syntax.format(\n",
    "                columns_set=', '.join(values_obj_str),\n",
    "                table=self.table.__name__.lower()\n",
    "            )\n",
    "        )\n",
    "        \n",
    "        return self\n",
    "    \n",
    "    def delete(self) -> Self:\n",
    "        \n",
    "        delete_syntax = \"DELETE FROM {table}\"\n",
    "        \n",
    "        self.__query__.append(\n",
    "            delete_syntax.format(\n",
    "                table=self.table.__name__\n",
    "            )\n",
    "        )\n",
    "        \n",
    "        return self\n",
    "    \n",
    "    def min(self,column:Field) -> Self:\n",
    "        \n",
    "        min_syntax = \"SELECT MIN({column}) FROM {table}\"\n",
    "        \n",
    "        self.__query__.append(\n",
    "            min_syntax.format(\n",
    "                column = column.__name__,\n",
    "                table = self.table.__name__.lower()\n",
    "            )\n",
    "        )\n",
    "        \n",
    "        return self\n",
    "    \n",
    "    def max(self,column:Field) -> Self:\n",
    "        \n",
    "        max_syntax = \"SELECT MAX({column}) FROM {table}\"\n",
    "        \n",
    "        self.__query__.append(\n",
    "            max_syntax.format(\n",
    "                column = column.__name__,\n",
    "                table = self.table.__name__.lower()\n",
    "            )\n",
    "        )\n",
    "        \n",
    "        return self\n",
    "    \n",
    "    def count(self,column:Field) -> Self:\n",
    "        \n",
    "        count_syntax = \"SELECT COUNT({column}) FROM {table}\"\n",
    "        \n",
    "        self.__query__.append(\n",
    "            count_syntax.format(\n",
    "                column = column.__name__,\n",
    "                table = self.table.__name__.lower()\n",
    "            )\n",
    "        )\n",
    "        \n",
    "        return self\n",
    "    \n",
    "    def sum(self,column) -> Self:\n",
    "        \n",
    "        sum_syntax = \"SELECT SUM({column}) FROM {table}\"\n",
    "        \n",
    "        self.__query__.append(\n",
    "            sum_syntax.format(\n",
    "                column = column.__name__,\n",
    "                table = self.table.__name__.lower()\n",
    "            )\n",
    "        )\n",
    "        \n",
    "        return self\n",
    "    \n",
    "    \n",
    "    def avg(self,column) -> Self:\n",
    "        \n",
    "        avg_syntax = \"SELECT AVG({column}) FROM {table}\"\n",
    "        \n",
    "        self.__query__.append(\n",
    "            avg_syntax.format(\n",
    "                column = column.__name__,\n",
    "                table = self.table.__name__.lower()\n",
    "            )\n",
    "        )\n",
    "        \n",
    "        return self\n",
    "    \n",
    "    def join(self,column,type:str) -> Self:\n",
    "        return self\n",
    "    \n",
    "class Session:\n",
    "    \n",
    "    def __init__(self,engine:sqlite3.Connection) -> None:\n",
    "        self.engine: sqlite3.Connection = engine\n",
    "        self.cursor: sqlite3.Cursor = engine.cursor()\n",
    "    \n",
    "    def __enter__(self) -> Self:\n",
    "        return self\n",
    "    \n",
    "    def __exit__(self,exception_type, exception_value, exception_traceback) -> None:        \n",
    "        self.cursor.close()\n",
    "        if exception_value:\n",
    "            raise Exception(exception_value)\n",
    "        pass\n",
    "    \n",
    "    def execute(self,query_obj:Query) -> Self:\n",
    "        self.cursor.execute(' '.join(query_obj.__query__))\n",
    "        return self\n",
    "    \n",
    "    def commit(self) -> Self:\n",
    "        self.engine.commit()\n",
    "        return self\n",
    "    \n",
    "    def fetchall(self) -> list:\n",
    "        columns:tuple = tuple([x[0] for x in self.cursor.description])\n",
    "        rows_data: list[Any] = self.cursor.fetchall()\n",
    "        data:list[dict] = []\n",
    "        for single_row in rows_data:\n",
    "            row_value:dict = {}\n",
    "            for value,col in zip(single_row,columns):\n",
    "                row_value.update({col:value})\n",
    "            data.append(row_value)\n",
    "        return data"
   ]
  },
  {
   "cell_type": "markdown",
   "metadata": {},
   "source": [
    "# ORM CODE FLOW"
   ]
  },
  {
   "cell_type": "code",
   "execution_count": 32,
   "metadata": {},
   "outputs": [],
   "source": [
    "class User(SQLModel):\n",
    "    id:Field[str] = Field(name='id',_type=str,primary_key=True)\n",
    "    name:Field[str] = Field(name='name',_type=str,required=True)\n",
    "    email:Field[str] = Field(name='email',_type=str,required=True)\n",
    "\n",
    "class Item(SQLModel):\n",
    "    id:Field[str] = Field(name='id',_type=str,primary_key=True)\n",
    "    name:Field[str] = Field(name='name',_type=str,required=True)\n",
    "    price:Field[float] = Field(name='price',_type=float,required=True)\n",
    "    user_id:ForeignKey = ForeignKey(name='user_id',_type=int,table=User,column=\"id\")"
   ]
  },
  {
   "cell_type": "code",
   "execution_count": 33,
   "metadata": {},
   "outputs": [
    {
     "data": {
      "text/plain": [
       "<sqlite3.Cursor at 0x1fdb2507cc0>"
      ]
     },
     "execution_count": 33,
     "metadata": {},
     "output_type": "execute_result"
    }
   ],
   "source": [
    "conn: sqlite3.Connection = sqlite3.connect(\":memory:\")\n",
    "SQLModel.execute_table(conn)"
   ]
  },
  {
   "cell_type": "code",
   "execution_count": 34,
   "metadata": {},
   "outputs": [],
   "source": [
    "user_var1 = User(id=str(uuid.uuid1()),name=\"karl\",email=\"karlalferezfx@gmail.com\")\n",
    "karl_item_1 = Item(id=str(uuid.uuid1()),name=\"soap\",price=3.14,user_id=user_var1.id)\n",
    "karl_item_2 = Item(id=str(uuid.uuid1()),name=\"shampoo\",price=1.50,user_id=user_var1.id)\n",
    "karl_item_3 = Item(id=str(uuid.uuid1()),name=\"toothpaste\",price=5.00,user_id=user_var1.id)\n",
    "\n",
    "user_var2 = User(id=str(uuid.uuid1()),name=\"andrei\",email=\"andrei_barlaan@gmail.com\")\n",
    "andrei_item_1 = Item(id=str(uuid.uuid1()),name=\"face mask\",price=0.01,user_id=user_var2.id)\n",
    "andrei_item_2 = Item(id=str(uuid.uuid1()),name=\"yosi\",price=0.10,user_id=user_var2.id)\n",
    "andrei_item_3 = Item(id=str(uuid.uuid1()),name=\"disposable vape\",price=5.50,user_id=user_var2.id)"
   ]
  },
  {
   "cell_type": "code",
   "execution_count": 35,
   "metadata": {},
   "outputs": [],
   "source": [
    "with Session(conn) as db:\n",
    "  \n",
    "  insert_user1: Query = Query(User).insert(user_var1)\n",
    "  insert_user2: Query = Query(User).insert(user_var2)\n",
    "  db.execute(insert_user1)\n",
    "  db.execute(insert_user2)\n",
    "  db.commit()\n",
    "\n",
    "  for item in [karl_item_1,karl_item_2,karl_item_3,andrei_item_1,andrei_item_2,andrei_item_3]:\n",
    "    insert_stmt:Query = Query(Item).insert(item)\n",
    "    db.execute(insert_stmt)\n",
    "  db.commit()\n",
    "\n",
    "  select_price: Query = Query(User).select().where(User.email == 'andrei_barlaan@gmail.com')\n",
    "  \n",
    "  data: list = db.execute(select_price).fetchall()"
   ]
  },
  {
   "cell_type": "code",
   "execution_count": 36,
   "metadata": {},
   "outputs": [
    {
     "name": "stdout",
     "output_type": "stream",
     "text": [
      "[{'id': '208fe5bf-69e0-11ee-b9a4-44032cfb3c03', 'name': 'andrei', 'email': 'andrei_barlaan@gmail.com'}]\n"
     ]
    }
   ],
   "source": [
    "print(data)"
   ]
  },
  {
   "cell_type": "markdown",
   "metadata": {},
   "source": [
    "# ORM QUERY "
   ]
  },
  {
   "cell_type": "code",
   "execution_count": 37,
   "metadata": {},
   "outputs": [
    {
     "data": {
      "text/plain": [
       "['SELECT user.id, user.name, user.email from user']"
      ]
     },
     "execution_count": 37,
     "metadata": {},
     "output_type": "execute_result"
    }
   ],
   "source": [
    "Query(User).select().__query__"
   ]
  },
  {
   "cell_type": "code",
   "execution_count": 38,
   "metadata": {},
   "outputs": [
    {
     "data": {
      "text/plain": [
       "['SELECT DISTINCT user.id, user.name, user.email from user']"
      ]
     },
     "execution_count": 38,
     "metadata": {},
     "output_type": "execute_result"
    }
   ],
   "source": [
    "Query(User).select(distinct=True).__query__"
   ]
  },
  {
   "cell_type": "code",
   "execution_count": 39,
   "metadata": {},
   "outputs": [
    {
     "data": {
      "text/plain": [
       "['SELECT TOP 5 user.id, user.name, user.email from user']"
      ]
     },
     "execution_count": 39,
     "metadata": {},
     "output_type": "execute_result"
    }
   ],
   "source": [
    "Query(User).select(top=5).__query__"
   ]
  },
  {
   "cell_type": "code",
   "execution_count": 40,
   "metadata": {},
   "outputs": [
    {
     "data": {
      "text/plain": [
       "['SELECT user.id, user.name, user.email from user', \"WHERE name = 'example'\"]"
      ]
     },
     "execution_count": 40,
     "metadata": {},
     "output_type": "execute_result"
    }
   ],
   "source": [
    "Query(User).select().where(User.name == 'example').__query__"
   ]
  },
  {
   "cell_type": "code",
   "execution_count": 41,
   "metadata": {},
   "outputs": [
    {
     "data": {
      "text/plain": [
       "['SELECT user.id, user.name, user.email from user', 'ORDER BY name ASC']"
      ]
     },
     "execution_count": 41,
     "metadata": {},
     "output_type": "execute_result"
    }
   ],
   "source": [
    "Query(User).select().order_by(User.name,order='ASC').__query__"
   ]
  },
  {
   "cell_type": "code",
   "execution_count": 42,
   "metadata": {},
   "outputs": [
    {
     "data": {
      "text/plain": [
       "['SELECT user.id, user.name, user.email from user',\n",
       " \"WHERE name = 'example' AND email = 'email@example.com'\"]"
      ]
     },
     "execution_count": 42,
     "metadata": {},
     "output_type": "execute_result"
    }
   ],
   "source": [
    "Query(User).select().where(_and(User.name == 'example',User.email == 'email@example.com')).__query__"
   ]
  },
  {
   "cell_type": "code",
   "execution_count": 43,
   "metadata": {},
   "outputs": [
    {
     "data": {
      "text/plain": [
       "['SELECT user.id, user.name, user.email from user',\n",
       " \"WHERE name = 'example' OR email = 'email@example.com'\"]"
      ]
     },
     "execution_count": 43,
     "metadata": {},
     "output_type": "execute_result"
    }
   ],
   "source": [
    "Query(User).select().where(_or(User.name == 'example',User.email == 'email@example.com')).__query__"
   ]
  },
  {
   "cell_type": "code",
   "execution_count": 44,
   "metadata": {},
   "outputs": [
    {
     "data": {
      "text/plain": [
       "['SELECT user.id, user.name, user.email from user',\n",
       " \"WHERE NOT name = 'example'\"]"
      ]
     },
     "execution_count": 44,
     "metadata": {},
     "output_type": "execute_result"
    }
   ],
   "source": [
    "Query(User).select().where(_not(User.name == 'example')).__query__"
   ]
  },
  {
   "cell_type": "code",
   "execution_count": 45,
   "metadata": {},
   "outputs": [
    {
     "data": {
      "text/plain": [
       "[\"INSERT INTO user VALUES ('208fbeb3-69e0-11ee-b0cf-44032cfb3c03', 'karl', 'karlalferezfx@gmail.com')\"]"
      ]
     },
     "execution_count": 45,
     "metadata": {},
     "output_type": "execute_result"
    }
   ],
   "source": [
    "Query(User).insert(user_var1).__query__"
   ]
  },
  {
   "cell_type": "code",
   "execution_count": 46,
   "metadata": {},
   "outputs": [
    {
     "data": {
      "text/plain": [
       "['SELECT user.id, user.name, user.email from user',\n",
       " \"WHERE name = 'example' IS NULL\"]"
      ]
     },
     "execution_count": 46,
     "metadata": {},
     "output_type": "execute_result"
    }
   ],
   "source": [
    "Query(User).select().where(_null(User.name == 'example')).__query__"
   ]
  },
  {
   "cell_type": "code",
   "execution_count": 47,
   "metadata": {},
   "outputs": [
    {
     "data": {
      "text/plain": [
       "['SELECT user.id, user.name, user.email from user',\n",
       " \"WHERE name = 'example' IS NOT NULL\"]"
      ]
     },
     "execution_count": 47,
     "metadata": {},
     "output_type": "execute_result"
    }
   ],
   "source": [
    "Query(User).select().where(_not_null(User.name == 'example')).__query__"
   ]
  },
  {
   "cell_type": "code",
   "execution_count": 48,
   "metadata": {},
   "outputs": [
    {
     "data": {
      "text/plain": [
       "[\"UPDATE user SET id = '208fbeb3-69e0-11ee-b0cf-44032cfb3c03', name = 'karl', email = 'karlalferezfx@gmail.com'\",\n",
       " \"WHERE id = '123456'\"]"
      ]
     },
     "execution_count": 48,
     "metadata": {},
     "output_type": "execute_result"
    }
   ],
   "source": [
    "Query(User).update(user_var1).where(User.id == '123456').__query__"
   ]
  },
  {
   "cell_type": "code",
   "execution_count": 49,
   "metadata": {},
   "outputs": [
    {
     "data": {
      "text/plain": [
       "['DELETE FROM User', \"WHERE id = '123456'\"]"
      ]
     },
     "execution_count": 49,
     "metadata": {},
     "output_type": "execute_result"
    }
   ],
   "source": [
    "Query(User).delete().where(User.id == '123456').__query__"
   ]
  },
  {
   "cell_type": "code",
   "execution_count": 50,
   "metadata": {},
   "outputs": [
    {
     "data": {
      "text/plain": [
       "['SELECT MIN(name) FROM user', \"WHERE id = '123456'\"]"
      ]
     },
     "execution_count": 50,
     "metadata": {},
     "output_type": "execute_result"
    }
   ],
   "source": [
    "Query(User).min(User.name).where(User.id == '123456').__query__"
   ]
  },
  {
   "cell_type": "code",
   "execution_count": 51,
   "metadata": {},
   "outputs": [
    {
     "data": {
      "text/plain": [
       "['SELECT MAX(name) FROM user', \"WHERE id = '123456'\"]"
      ]
     },
     "execution_count": 51,
     "metadata": {},
     "output_type": "execute_result"
    }
   ],
   "source": [
    "Query(User).max(User.name).where(User.id == '123456').__query__"
   ]
  },
  {
   "cell_type": "code",
   "execution_count": 52,
   "metadata": {},
   "outputs": [
    {
     "data": {
      "text/plain": [
       "['SELECT COUNT(name) FROM user']"
      ]
     },
     "execution_count": 52,
     "metadata": {},
     "output_type": "execute_result"
    }
   ],
   "source": [
    "Query(User).count(User.name).__query__"
   ]
  },
  {
   "cell_type": "code",
   "execution_count": 53,
   "metadata": {},
   "outputs": [
    {
     "data": {
      "text/plain": [
       "['SELECT SUM(price) FROM item', \"WHERE user_id = '1231231232'\"]"
      ]
     },
     "execution_count": 53,
     "metadata": {},
     "output_type": "execute_result"
    }
   ],
   "source": [
    "Query(Item).sum(Item.price).where(Item.user_id == '1231231232').__query__\n"
   ]
  },
  {
   "cell_type": "code",
   "execution_count": 54,
   "metadata": {},
   "outputs": [
    {
     "data": {
      "text/plain": [
       "['SELECT AVG(price) FROM item', \"WHERE user_id = '1231231232'\"]"
      ]
     },
     "execution_count": 54,
     "metadata": {},
     "output_type": "execute_result"
    }
   ],
   "source": [
    "Query(Item).avg(Item.price).where(Item.user_id == '1231231232').__query__"
   ]
  },
  {
   "cell_type": "code",
   "execution_count": 55,
   "metadata": {},
   "outputs": [
    {
     "data": {
      "text/plain": [
       "['SELECT price from item', 'WHERE  LIKE %1231231232%']"
      ]
     },
     "execution_count": 55,
     "metadata": {},
     "output_type": "execute_result"
    }
   ],
   "source": [
    "Query(Item).select(Item.price).where(_like(Item.name,'1231231232')).__query__"
   ]
  },
  {
   "cell_type": "code",
   "execution_count": 56,
   "metadata": {},
   "outputs": [
    {
     "data": {
      "text/plain": [
       "['SELECT user.id, user.name, user.email from user',\n",
       " \"WHERE name IN ('karl', 'robeck', 'alferez')\"]"
      ]
     },
     "execution_count": 56,
     "metadata": {},
     "output_type": "execute_result"
    }
   ],
   "source": [
    "Query(User).select().where(_in(User.name,('karl','robeck','alferez'))).__query__"
   ]
  },
  {
   "cell_type": "code",
   "execution_count": 57,
   "metadata": {},
   "outputs": [
    {
     "data": {
      "text/plain": [
       "['SELECT user.id, user.name, user.email from user',\n",
       " 'WHERE id BETWEEN 0 AND 10']"
      ]
     },
     "execution_count": 57,
     "metadata": {},
     "output_type": "execute_result"
    }
   ],
   "source": [
    "Query(User).select().where(_between(User.id,0,10)).__query__"
   ]
  },
  {
   "cell_type": "code",
   "execution_count": 58,
   "metadata": {},
   "outputs": [
    {
     "data": {
      "text/plain": [
       "<__main__.Query at 0x1fdb2575dd0>"
      ]
     },
     "execution_count": 58,
     "metadata": {},
     "output_type": "execute_result"
    }
   ],
   "source": [
    "Query(User).select().join(Item,type='inner').where(_in(User.name,('karl','robeck','alferez')))"
   ]
  },
  {
   "cell_type": "code",
   "execution_count": null,
   "metadata": {},
   "outputs": [],
   "source": []
  }
 ],
 "metadata": {
  "kernelspec": {
   "display_name": "orm-4E_qFmLh",
   "language": "python",
   "name": "python3"
  },
  "language_info": {
   "codemirror_mode": {
    "name": "ipython",
    "version": 3
   },
   "file_extension": ".py",
   "mimetype": "text/x-python",
   "name": "python",
   "nbconvert_exporter": "python",
   "pygments_lexer": "ipython3",
   "version": "3.11.4"
  }
 },
 "nbformat": 4,
 "nbformat_minor": 2
}
